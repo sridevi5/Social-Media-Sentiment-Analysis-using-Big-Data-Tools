{
 "cells": [
  {
   "cell_type": "code",
   "execution_count": null,
   "id": "c90a9e68",
   "metadata": {},
   "outputs": [],
   "source": [
    "import instaloader\n",
    "import csv\n",
    "import os\n",
    "import emoji\n",
    "\n",
    "# Initialize Instaloader\n",
    "L = instaloader.Instaloader()\n",
    "\n",
    "# Login to Instagram\n",
    "username = 'your_username'\n",
    "password = 'your_password'\n",
    "L.login(username, password)\n",
    "\n",
    "# List of post shortcodes (replace with the actual shortcodes you want to scrape)\n",
    "post_shortcodes = ['C-asOz_olPd', 'C80EI7NNDFK']  # Add more shortcodes as needed\n",
    "\n",
    "# Define the CSV file path\n",
    "csv_file = 'instagram_comments1.csv'\n",
    "\n",
    "# Check if the file exists and delete it if needed\n",
    "if os.path.exists(csv_file):\n",
    "    os.remove(csv_file)\n",
    "\n",
    "# Open the CSV file for writing\n",
    "with open(csv_file, mode='w', newline='', encoding='utf-8') as file:\n",
    "    writer = csv.writer(file)\n",
    "    # Write the header\n",
    "    writer.writerow([\"Post Shortcode\", \"Username\", \"Comment Text\", \"Comment Date\", \"Likes\", \"Post Owner\"])\n",
    "\n",
    "    # Loop through each post shortcode and fetch comments\n",
    "    for post_shortcode in post_shortcodes:\n",
    "        post = instaloader.Post.from_shortcode(L.context, post_shortcode)\n",
    "\n",
    "        # Fetching comments from the post\n",
    "        for comment in post.get_comments():\n",
    "            # Write the comment details to the CSV file\n",
    "            writer.writerow([\n",
    "                post_shortcode,\n",
    "                comment.owner.username,\n",
    "                (emoji.demojize(comment.text)).encode('utf-8', errors='ignore').decode() if comment.text else \"\",\n",
    "                comment.created_at_utc.strftime('%Y-%m-%d'),\n",
    "                comment.likes_count,\n",
    "                post.owner_username\n",
    "            ])\n",
    "\n",
    "print(f\"Comments from all posts successfully saved to {csv_file}!\")\n"
   ]
  },
  {
   "cell_type": "code",
   "execution_count": null,
   "id": "7ce2f026",
   "metadata": {},
   "outputs": [],
   "source": []
  }
 ],
 "metadata": {
  "kernelspec": {
   "display_name": "Python 3 (ipykernel)",
   "language": "python",
   "name": "python3"
  },
  "language_info": {
   "codemirror_mode": {
    "name": "ipython",
    "version": 3
   },
   "file_extension": ".py",
   "mimetype": "text/x-python",
   "name": "python",
   "nbconvert_exporter": "python",
   "pygments_lexer": "ipython3",
   "version": "3.11.2"
  }
 },
 "nbformat": 4,
 "nbformat_minor": 5
}
