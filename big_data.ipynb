{
 "cells": [
  {
   "cell_type": "code",
   "execution_count": null,
   "id": "1766fcd3",
   "metadata": {},
   "outputs": [],
   "source": [
    "# Intialization\n",
    "import os\n",
    "import sys\n",
    "\n",
    "os.environ[\"SPARK_HOME\"] = \"/home/talentum/spark\"\n",
    "os.environ[\"PYLIB\"] = os.environ[\"SPARK_HOME\"] + \"/python/lib\"\n",
    "# In below two lines, use /usr/bin/python2.7 if you want to use Python 2\n",
    "os.environ[\"PYSPARK_PYTHON\"] = \"/usr/bin/python3.6\" \n",
    "os.environ[\"PYSPARK_DRIVER_PYTHON\"] = \"/usr/bin/python3\"\n",
    "sys.path.insert(0, os.environ[\"PYLIB\"] +\"/py4j-0.10.7-src.zip\")\n",
    "sys.path.insert(0, os.environ[\"PYLIB\"] +\"/pyspark.zip\")\n",
    "\n",
    "# NOTE: Whichever package you want mention here.\n",
    "# os.environ['PYSPARK_SUBMIT_ARGS'] = '--packages com.databricks:spark-xml_2.11:0.6.0 pyspark-shell' \n",
    "# os.environ['PYSPARK_SUBMIT_ARGS'] = '--packages org.apache.spark:spark-avro_2.11:2.4.0 pyspark-shell'\n",
    "os.environ['PYSPARK_SUBMIT_ARGS'] = '--packages com.databricks:spark-xml_2.11:0.6.0,org.apache.spark:spark-avro_2.11:2.4.3 pyspark-shell'\n",
    "# os.environ['PYSPARK_SUBMIT_ARGS'] = '--packages com.databricks:spark-xml_2.11:0.6.0,org.apache.spark:spark-avro_2.11:2.4.0 pyspark-shell'"
   ]
  },
  {
   "cell_type": "code",
   "execution_count": null,
   "id": "38a98209",
   "metadata": {},
   "outputs": [],
   "source": [
    "#Entrypoint 2.x\n",
    "from pyspark.sql import SparkSession\n",
    "spark = SparkSession.builder.appName(\"Spark SQL basic example\").enableHiveSupport().getOrCreate()\n",
    "\n",
    "# On yarn:\n",
    "# spark = SparkSession.builder.appName(\"Spark SQL basic example\").enableHiveSupport().master(\"yarn\").getOrCreate()\n",
    "# specify .master(\"yarn\")\n",
    "\n",
    "sc = spark.sparkContext"
   ]
  },
  {
   "cell_type": "markdown",
   "id": "5de15937",
   "metadata": {},
   "source": [
    "## Load data from hive"
   ]
  },
  {
   "cell_type": "code",
   "execution_count": 35,
   "id": "d7602dc6",
   "metadata": {},
   "outputs": [
    {
     "name": "stdout",
     "output_type": "stream",
     "text": [
      "+--------------+--------------------+--------------------+------------+-----+----------+\n",
      "|     shortcode|            username|        comment_text|comment_date|likes|post_owner|\n",
      "+--------------+--------------------+--------------------+------------+-----+----------+\n",
      "|Post Shortcode|            Username|        Comment Text|Comment Date|Likes|Post Owner|\n",
      "|   C-asOz_olPd|      vibhasingh2916|                Nice|  2024-08-13|    7| cristiano|\n",
      "|   C-asOz_olPd|           moaanaa87|Please help me he...|  2024-08-13|    2| cristiano|\n",
      "|   C-asOz_olPd|          mahdi_i_m_|PEPE THE BEST CB ...|  2024-08-13|    4| cristiano|\n",
      "|   C-asOz_olPd|      _ektara_vatss_|       shut up oldie|  2024-08-13|    2| cristiano|\n",
      "|   C-asOz_olPd|           muhar.007|                    |  2024-08-13|    4| cristiano|\n",
      "|   C-asOz_olPd|       sendonet_inst|I will miss your ...|  2024-08-13|    6| cristiano|\n",
      "|   C-asOz_olPd|           ilios7153|               Hello|  2024-08-13|    3| cristiano|\n",
      "|   C-asOz_olPd|         khadija_a_l|         :red_heart:|  2024-08-13|    6| cristiano|\n",
      "|   C-asOz_olPd|           jozhuaprz|Todo está llegand...|  2024-08-13|    4| cristiano|\n",
      "|   C-asOz_olPd|          shakiipcr7|:raising_hands::r...|  2024-08-12|    3| cristiano|\n",
      "|   C-asOz_olPd|moroccan_sports_fans|:fire::fire::brok...|  2024-08-13|    6| cristiano|\n",
      "|   C-asOz_olPd|      _saminta_yadav|                    |  2024-08-13|    5| cristiano|\n",
      "|   C-asOz_olPd|             c3__808|Te entiendo giorgina|  2024-08-13|    5| cristiano|\n",
      "|   C-asOz_olPd|             ladfm29|        :fire::fire:|  2024-08-12|    5| cristiano|\n",
      "|   C-asOz_olPd|noroozi__fottbal_...|                    |  2024-08-13|    2| cristiano|\n",
      "|   C-asOz_olPd|       rey_espinoza4|      :broken_heart:|  2024-08-11|    2| cristiano|\n",
      "|   C-asOz_olPd|           plumbchip|messi sin hablar ...|  2024-08-13|    7| cristiano|\n",
      "|   C-asOz_olPd|    tahabayramcetinn|                  Gt|  2024-08-13|    2| cristiano|\n",
      "|   C-asOz_olPd|   angel_leonardo.23|Cristiano te amo ...|  2024-08-13|    5| cristiano|\n",
      "+--------------+--------------------+--------------------+------------+-----+----------+\n",
      "only showing top 20 rows\n",
      "\n"
     ]
    }
   ],
   "source": [
    "# Load Hive table into DataFrame\n",
    "comm = spark.table(\"instagram_comments\")\n",
    "\n",
    "# Display the DataFrame contents\n",
    "comm.show()"
   ]
  },
  {
   "cell_type": "code",
   "execution_count": 36,
   "id": "f82e07c2",
   "metadata": {},
   "outputs": [
    {
     "name": "stdout",
     "output_type": "stream",
     "text": [
      "+-----------+--------------------+--------------------+------------+-----+----------+\n",
      "|  shortcode|            username|        comment_text|comment_date|likes|post_owner|\n",
      "+-----------+--------------------+--------------------+------------+-----+----------+\n",
      "|C-asOz_olPd|      vibhasingh2916|                Nice|  2024-08-13|    7| cristiano|\n",
      "|C-asOz_olPd|           moaanaa87|Please help me he...|  2024-08-13|    2| cristiano|\n",
      "|C-asOz_olPd|          mahdi_i_m_|PEPE THE BEST CB ...|  2024-08-13|    4| cristiano|\n",
      "|C-asOz_olPd|      _ektara_vatss_|       shut up oldie|  2024-08-13|    2| cristiano|\n",
      "|C-asOz_olPd|           muhar.007|                    |  2024-08-13|    4| cristiano|\n",
      "|C-asOz_olPd|       sendonet_inst|I will miss your ...|  2024-08-13|    6| cristiano|\n",
      "|C-asOz_olPd|           ilios7153|               Hello|  2024-08-13|    3| cristiano|\n",
      "|C-asOz_olPd|         khadija_a_l|         :red_heart:|  2024-08-13|    6| cristiano|\n",
      "|C-asOz_olPd|           jozhuaprz|Todo está llegand...|  2024-08-13|    4| cristiano|\n",
      "|C-asOz_olPd|          shakiipcr7|:raising_hands::r...|  2024-08-12|    3| cristiano|\n",
      "|C-asOz_olPd|moroccan_sports_fans|:fire::fire::brok...|  2024-08-13|    6| cristiano|\n",
      "|C-asOz_olPd|      _saminta_yadav|                    |  2024-08-13|    5| cristiano|\n",
      "|C-asOz_olPd|             c3__808|Te entiendo giorgina|  2024-08-13|    5| cristiano|\n",
      "|C-asOz_olPd|             ladfm29|        :fire::fire:|  2024-08-12|    5| cristiano|\n",
      "|C-asOz_olPd|noroozi__fottbal_...|                    |  2024-08-13|    2| cristiano|\n",
      "|C-asOz_olPd|       rey_espinoza4|      :broken_heart:|  2024-08-11|    2| cristiano|\n",
      "|C-asOz_olPd|           plumbchip|messi sin hablar ...|  2024-08-13|    7| cristiano|\n",
      "|C-asOz_olPd|    tahabayramcetinn|                  Gt|  2024-08-13|    2| cristiano|\n",
      "|C-asOz_olPd|   angel_leonardo.23|Cristiano te amo ...|  2024-08-13|    5| cristiano|\n",
      "|C-asOz_olPd|         raywontmiss|ronaldo is better...|  2024-08-13|    4| cristiano|\n",
      "+-----------+--------------------+--------------------+------------+-----+----------+\n",
      "only showing top 20 rows\n",
      "\n"
     ]
    }
   ],
   "source": [
    "comm=comm.filter(~comm.shortcode.contains(\"Post Shortcode\"))\n",
    "comm.show()"
   ]
  },
  {
   "cell_type": "code",
   "execution_count": 37,
   "id": "02c5b61b",
   "metadata": {},
   "outputs": [],
   "source": [
    "import pandas as pd\n",
    "import numpy as np\n",
    "pd.set_option('display.max_colwidth', 200)\n",
    "\n",
    "# Import visualization packages\n",
    "import matplotlib.pyplot as plt\n",
    "import seaborn as sns\n",
    "\n",
    "# Import NLP packages\n",
    "from textblob import TextBlob\n",
    "\n",
    "# Import warnings package\n",
    "import warnings\n",
    "warnings.filterwarnings(\"ignore\")"
   ]
  },
  {
   "cell_type": "markdown",
   "id": "aaae1e39",
   "metadata": {},
   "source": [
    "## Create user defined function for sentiment analysis"
   ]
  },
  {
   "cell_type": "code",
   "execution_count": 38,
   "id": "18fff49f",
   "metadata": {},
   "outputs": [
    {
     "name": "stdout",
     "output_type": "stream",
     "text": [
      "+-----------------+---------+\n",
      "|             text|sentiment|\n",
      "+-----------------+---------+\n",
      "|The movie is good|      0.7|\n",
      "| The movie is bad|     -0.7|\n",
      "|The movie is okay|      0.5|\n",
      "+-----------------+---------+\n",
      "\n"
     ]
    }
   ],
   "source": [
    "from pyspark.sql import SparkSession\n",
    "from pyspark.sql.functions import udf\n",
    "from textblob import TextBlob\n",
    "from pyspark.sql.types import FloatType\n",
    "\n",
    "# Create a SparkSession\n",
    "spark = SparkSession.builder.appName(\"Sentiment Analysis\").getOrCreate()\n",
    "\n",
    "# Create a sample DataFrame with text data\n",
    "data = [(\"The movie is good\",), (\"The movie is bad\",), (\"The movie is okay\",)]\n",
    "df = spark.createDataFrame(data, [\"text\"])\n",
    "\n",
    "# Define a UDF (User-Defined Function) to perform sentiment analysis\n",
    "def sentiment_analysis(text):\n",
    "    blob = TextBlob(text)\n",
    "    return blob.sentiment.polarity\n",
    "\n",
    "# Register the UDF\n",
    "udf_sentiment = udf(sentiment_analysis, FloatType())\n",
    "\n",
    "# Apply the UDF to the DataFrame\n",
    "df_with_sentiment = df.withColumn(\"sentiment\", udf_sentiment(\"text\"))\n",
    "\n",
    "# Show the results\n",
    "df_with_sentiment.show()"
   ]
  },
  {
   "cell_type": "code",
   "execution_count": 94,
   "id": "bb721302",
   "metadata": {},
   "outputs": [
    {
     "name": "stdout",
     "output_type": "stream",
     "text": [
      "+-----------------+---------+\n",
      "|             text|sentiment|\n",
      "+-----------------+---------+\n",
      "|The movie is good|   0.4404|\n",
      "| The movie is bad|  -0.5423|\n",
      "|The movie is okay|   0.2263|\n",
      "+-----------------+---------+\n",
      "\n",
      "+-----------------+---------+\n",
      "|             text|sentiment|\n",
      "+-----------------+---------+\n",
      "|The movie is good|      0.7|\n",
      "| The movie is bad|     -0.7|\n",
      "|The movie is okay|      0.5|\n",
      "+-----------------+---------+\n",
      "\n",
      "+-----------------+---------+\n",
      "|             text|sentiment|\n",
      "+-----------------+---------+\n",
      "|The movie is good|   0.4404|\n",
      "| The movie is bad|  -0.5423|\n",
      "|The movie is okay|   0.2263|\n",
      "+-----------------+---------+\n",
      "\n"
     ]
    }
   ],
   "source": [
    "from nltk.sentiment import SentimentIntensityAnalyzer\n",
    "from textblob import TextBlob\n",
    "from vaderSentiment.vaderSentiment import SentimentIntensityAnalyzer as VaderSentimentIntensityAnalyzer\n",
    "import nltk\n",
    "data = [(\"The movie is good\",), (\"The movie is bad\",), (\"The movie is okay\",)]\n",
    "df = spark.createDataFrame(data, [\"text\"])\n",
    "def nltk_sentiment(text):\n",
    "    sid = SentimentIntensityAnalyzer()\n",
    "    return sid.polarity_scores(text)['compound']\n",
    "def textblob_sentiment(text):\n",
    "    return TextBlob(text).sentiment.polarity\n",
    "\n",
    "# Function for VADER sentiment analysis\n",
    "def vader_sentiment(text):\n",
    "    analyzer = VaderSentimentIntensityAnalyzer()\n",
    "    return analyzer.polarity_scores(text)['compound']\n",
    "\n",
    "udf_nltk = udf(nltk_sentiment, FloatType())\n",
    "udf_textBlob = udf(textblob_sentiment, FloatType())\n",
    "udf_vader = udf(vader_sentiment, FloatType())\n",
    "# Apply the UDF to the DataFrame\n",
    "df_with_nltk_sentiment = df.withColumn(\"sentiment\", udf_nltk(\"text\"))\n",
    "df_with_tb_sentiment = df.withColumn(\"sentiment\", udf_textBlob(\"text\"))\n",
    "df_with_vader_sentiment = df.withColumn(\"sentiment\", udf_vader(\"text\"))\n",
    "\n",
    "# Show the results\n",
    "\n",
    "df_with_nltk_sentiment.show()\n",
    "df_with_tb_sentiment.show()\n",
    "df_with_vader_sentiment.show()"
   ]
  },
  {
   "cell_type": "code",
   "execution_count": 39,
   "id": "bc9dc6aa",
   "metadata": {},
   "outputs": [
    {
     "name": "stdout",
     "output_type": "stream",
     "text": [
      "+-----------+--------------------+--------------------+------------+-----+----------+-------------------+\n",
      "|  shortcode|            username|        comment_text|comment_date|likes|post_owner|           polarity|\n",
      "+-----------+--------------------+--------------------+------------+-----+----------+-------------------+\n",
      "|C-asOz_olPd|      vibhasingh2916|                Nice|  2024-08-13|    7| cristiano|                0.6|\n",
      "|C-asOz_olPd|           moaanaa87|Please help me he...|  2024-08-13|    2| cristiano|0.47727272727272735|\n",
      "|C-asOz_olPd|          mahdi_i_m_|PEPE THE BEST CB ...|  2024-08-13|    4| cristiano|                1.0|\n",
      "|C-asOz_olPd|      _ektara_vatss_|       shut up oldie|  2024-08-13|    2| cristiano|                0.0|\n",
      "|C-asOz_olPd|           muhar.007|                    |  2024-08-13|    4| cristiano|                0.0|\n",
      "|C-asOz_olPd|       sendonet_inst|I will miss your ...|  2024-08-13|    6| cristiano|                0.0|\n",
      "|C-asOz_olPd|           ilios7153|               Hello|  2024-08-13|    3| cristiano|                0.0|\n",
      "|C-asOz_olPd|         khadija_a_l|         :red_heart:|  2024-08-13|    6| cristiano|                0.0|\n",
      "|C-asOz_olPd|           jozhuaprz|Todo está llegand...|  2024-08-13|    4| cristiano|                0.0|\n",
      "|C-asOz_olPd|          shakiipcr7|:raising_hands::r...|  2024-08-12|    3| cristiano|                0.0|\n",
      "|C-asOz_olPd|moroccan_sports_fans|:fire::fire::brok...|  2024-08-13|    6| cristiano|                0.0|\n",
      "|C-asOz_olPd|      _saminta_yadav|                    |  2024-08-13|    5| cristiano|                0.0|\n",
      "|C-asOz_olPd|             c3__808|Te entiendo giorgina|  2024-08-13|    5| cristiano|                0.0|\n",
      "|C-asOz_olPd|             ladfm29|        :fire::fire:|  2024-08-12|    5| cristiano|                0.0|\n",
      "|C-asOz_olPd|noroozi__fottbal_...|                    |  2024-08-13|    2| cristiano|                0.0|\n",
      "|C-asOz_olPd|       rey_espinoza4|      :broken_heart:|  2024-08-11|    2| cristiano|                0.0|\n",
      "|C-asOz_olPd|           plumbchip|messi sin hablar ...|  2024-08-13|    7| cristiano|                0.0|\n",
      "|C-asOz_olPd|    tahabayramcetinn|                  Gt|  2024-08-13|    2| cristiano|                0.0|\n",
      "|C-asOz_olPd|   angel_leonardo.23|Cristiano te amo ...|  2024-08-13|    5| cristiano|                0.0|\n",
      "|C-asOz_olPd|         raywontmiss|ronaldo is better...|  2024-08-13|    4| cristiano|                0.5|\n",
      "+-----------+--------------------+--------------------+------------+-----+----------+-------------------+\n",
      "only showing top 20 rows\n",
      "\n"
     ]
    }
   ],
   "source": [
    "from pyspark.sql.functions import udf\n",
    "from textblob import TextBlob\n",
    "\n",
    "# Define a UDF to calculate sentiment polarity\n",
    "@udf(\"double\")\n",
    "def sentiment_polarity(text):\n",
    "    try:\n",
    "        analysis = TextBlob(text)\n",
    "        return analysis.sentiment.polarity\n",
    "    except:\n",
    "        return 0.0\n",
    "\n",
    "# Create a new column with sentiment polarity\n",
    "comm_with_polarity = comm.withColumn(\"polarity\", sentiment_polarity(comm.comment_text))\n",
    "\n",
    "# Show the first 20 rows\n",
    "comm_with_polarity.show(20)"
   ]
  },
  {
   "cell_type": "code",
   "execution_count": 40,
   "id": "12897c71",
   "metadata": {},
   "outputs": [
    {
     "name": "stdout",
     "output_type": "stream",
     "text": [
      "+-----------+--------------------+--------------------+------------+-----+----------+--------+\n",
      "|  shortcode|            username|        comment_text|comment_date|likes|post_owner|polarity|\n",
      "+-----------+--------------------+--------------------+------------+-----+----------+--------+\n",
      "|C-asOz_olPd|      vibhasingh2916|                Nice|  2024-08-13|    7| cristiano|Positive|\n",
      "|C-asOz_olPd|           moaanaa87|Please help me he...|  2024-08-13|    2| cristiano|Positive|\n",
      "|C-asOz_olPd|          mahdi_i_m_|PEPE THE BEST CB ...|  2024-08-13|    4| cristiano|Positive|\n",
      "|C-asOz_olPd|      _ektara_vatss_|       shut up oldie|  2024-08-13|    2| cristiano| Neutral|\n",
      "|C-asOz_olPd|           muhar.007|                    |  2024-08-13|    4| cristiano| Neutral|\n",
      "|C-asOz_olPd|       sendonet_inst|I will miss your ...|  2024-08-13|    6| cristiano| Neutral|\n",
      "|C-asOz_olPd|           ilios7153|               Hello|  2024-08-13|    3| cristiano| Neutral|\n",
      "|C-asOz_olPd|         khadija_a_l|         :red_heart:|  2024-08-13|    6| cristiano| Neutral|\n",
      "|C-asOz_olPd|           jozhuaprz|Todo está llegand...|  2024-08-13|    4| cristiano| Neutral|\n",
      "|C-asOz_olPd|          shakiipcr7|:raising_hands::r...|  2024-08-12|    3| cristiano| Neutral|\n",
      "|C-asOz_olPd|moroccan_sports_fans|:fire::fire::brok...|  2024-08-13|    6| cristiano| Neutral|\n",
      "|C-asOz_olPd|      _saminta_yadav|                    |  2024-08-13|    5| cristiano| Neutral|\n",
      "|C-asOz_olPd|             c3__808|Te entiendo giorgina|  2024-08-13|    5| cristiano| Neutral|\n",
      "|C-asOz_olPd|             ladfm29|        :fire::fire:|  2024-08-12|    5| cristiano| Neutral|\n",
      "|C-asOz_olPd|noroozi__fottbal_...|                    |  2024-08-13|    2| cristiano| Neutral|\n",
      "|C-asOz_olPd|       rey_espinoza4|      :broken_heart:|  2024-08-11|    2| cristiano| Neutral|\n",
      "|C-asOz_olPd|           plumbchip|messi sin hablar ...|  2024-08-13|    7| cristiano| Neutral|\n",
      "|C-asOz_olPd|    tahabayramcetinn|                  Gt|  2024-08-13|    2| cristiano| Neutral|\n",
      "|C-asOz_olPd|   angel_leonardo.23|Cristiano te amo ...|  2024-08-13|    5| cristiano| Neutral|\n",
      "|C-asOz_olPd|         raywontmiss|ronaldo is better...|  2024-08-13|    4| cristiano|Positive|\n",
      "+-----------+--------------------+--------------------+------------+-----+----------+--------+\n",
      "only showing top 20 rows\n",
      "\n"
     ]
    }
   ],
   "source": [
    "from pyspark.sql.functions import when\n",
    "\n",
    "comm_with_polarity1 = comm_with_polarity.withColumn(\"polarity\",\n",
    "                       when(comm_with_polarity.polarity == 0, 'Neutral')\n",
    "                       .when(comm_with_polarity.polarity > 0, 'Positive')\n",
    "                       .when(comm_with_polarity.polarity < 0, 'Negative')\n",
    "                      )\n",
    "comm_with_polarity1.show()"
   ]
  },
  {
   "cell_type": "code",
   "execution_count": 41,
   "id": "9dd97558",
   "metadata": {},
   "outputs": [
    {
     "name": "stdout",
     "output_type": "stream",
     "text": [
      "+-----------+--------------------+--------------------+------------+-----+----------+--------+\n",
      "|  shortcode|            username|        comment_text|comment_date|likes|post_owner|polarity|\n",
      "+-----------+--------------------+--------------------+------------+-----+----------+--------+\n",
      "|C-asOz_olPd|      vibhasingh2916|                Nice|  2024-08-13|    7| cristiano|Positive|\n",
      "|C-asOz_olPd|           moaanaa87|Please help me he...|  2024-08-13|    2| cristiano|Positive|\n",
      "|C-asOz_olPd|          mahdi_i_m_|PEPE THE BEST CB ...|  2024-08-13|    4| cristiano|Positive|\n",
      "|C-asOz_olPd|         raywontmiss|ronaldo is better...|  2024-08-13|    4| cristiano|Positive|\n",
      "|C-asOz_olPd|       rizalzaelan1_|Athena Ultah!! Dr...|  2024-08-13|    4| cristiano|Positive|\n",
      "|C-asOz_olPd|          libra_96ss|LBLBLBLBL LBLBLBL...|  2024-08-13|    2| cristiano|Positive|\n",
      "|C-asOz_olPd|        ahmedeid8317|Long live Chris:c...|  2024-08-13|    7| cristiano|Positive|\n",
      "|C-asOz_olPd|           paul_pst7|Volte para o Real...|  2024-08-12|    4| cristiano|Positive|\n",
      "|C-asOz_olPd|           usman_xxo|Big fan big fan i...|  2024-08-13|    4| cristiano|Positive|\n",
      "|C-asOz_olPd|i__am__football__...|Love you:red_hear...|  2024-08-13|    9| cristiano|Positive|\n",
      "|C-asOz_olPd|             911lwgm|Real Madrid :goat...|  2024-08-13|    7| cristiano|Positive|\n",
      "|C-asOz_olPd|         nardioripi6|Good luck legend ...|  2024-08-13|    7| cristiano|Positive|\n",
      "|C-asOz_olPd|            samie_ig|Cristiano, your w...|  2024-08-13|    0| cristiano|Positive|\n",
      "|C-asOz_olPd|              radnra|BANGUN WOIII!!! D...|  2024-08-13|    0| cristiano|Positive|\n",
      "|C-asOz_olPd|               24nje|BANGUN WOY ANTENA...|  2024-08-13|    0| cristiano|Positive|\n",
      "|C-asOz_olPd|        khondoker358|             wow sir|  2024-08-13|    0| cristiano|Positive|\n",
      "|C-asOz_olPd|          i__mrane_7|Thanks pepe :brok...|  2024-08-13|    0| cristiano|Positive|\n",
      "|C-asOz_olPd|    aditya_budiman18|Bangun Woi !! Dr....|  2024-08-13|    0| cristiano|Positive|\n",
      "|C-asOz_olPd|      guruhindragiri|BANGUN WOI !! Dr....|  2024-08-13|    0| cristiano|Positive|\n",
      "|C-asOz_olPd|             yogaaaw|BANGUN WOI!! DR R...|  2024-08-13|    0| cristiano|Positive|\n",
      "+-----------+--------------------+--------------------+------------+-----+----------+--------+\n",
      "only showing top 20 rows\n",
      "\n"
     ]
    }
   ],
   "source": [
    "df_positive = comm_with_polarity1.filter(comm_with_polarity1.polarity.contains('Positive'))\n",
    "df_positive.show()"
   ]
  },
  {
   "cell_type": "code",
   "execution_count": 42,
   "id": "aab95746",
   "metadata": {},
   "outputs": [
    {
     "name": "stdout",
     "output_type": "stream",
     "text": [
      "+-----------+-----------------+--------------------+------------+-----+----------+--------+\n",
      "|  shortcode|         username|        comment_text|comment_date|likes|post_owner|polarity|\n",
      "+-----------+-----------------+--------------------+------------+-----+----------+--------+\n",
      "|C-asOz_olPd|       ahmeth5908|Pepe crying when ...|  2024-08-13|    1| cristiano|Negative|\n",
      "|C-asOz_olPd|      mostafir_77|                  :(|  2024-08-13|    0| cristiano|Negative|\n",
      "|C-asOz_olPd|  karanmaravi9596|Z kaha par hai me...|  2024-08-13|    0| cristiano|Negative|\n",
      "|C-asOz_olPd|         krymremk|please let me rea...|  2024-08-13|    0| cristiano|Negative|\n",
      "|C-asOz_olPd|       broklyn.61|Hello champion, I...|  2024-08-13|    0| cristiano|Negative|\n",
      "|C-asOz_olPd|   jamesjohn32222|I'm single from C...|  2024-08-13|    0| cristiano|Negative|\n",
      "|C-asOz_olPd|      cutecate775|Im very poor plea...|  2024-08-13|    2| cristiano|Negative|\n",
      "|C-asOz_olPd| communicate.news|The painful narra...|  2024-08-13|    1| cristiano|Negative|\n",
      "|C-asOz_olPd|         preye.p7|It so sad seeing ...|  2024-08-13|    0| cristiano|Negative|\n",
      "|C-asOz_olPd|   nlack_boy_7160|Please mera kardo...|  2024-08-13|    0| cristiano|Negative|\n",
      "|C-asOz_olPd|   helphelphelp44|Please reply to m...|  2024-08-13|    0| cristiano|Negative|\n",
      "|C-asOz_olPd|   helphelphelp44|Please reply to m...|  2024-08-13|    0| cristiano|Negative|\n",
      "|C-asOz_olPd|itz_furqanix_2410|Sad to say that i...|  2024-08-12|    1| cristiano|Negative|\n",
      "|C-asOz_olPd|       jarek20112|Cristiano ronaldo...|  2024-08-13|    1| cristiano|Negative|\n",
      "|C-asOz_olPd|    arshiya_01000|Hey my goat just ...|  2024-08-12|    1| cristiano|Negative|\n",
      "|C-asOz_olPd|          mohiti9|Hello, I am from ...|  2024-08-12|    0| cristiano|Negative|\n",
      "|C-asOz_olPd|       deryashhn1|I have been askin...|  2024-08-12|    0| cristiano|Negative|\n",
      "|C-asOz_olPd|       deryashhn1|What happens, ple...|  2024-08-12|    0| cristiano|Negative|\n",
      "|C-asOz_olPd|      malikalicr7|So sad to see him...|  2024-08-12|    1| cristiano|Negative|\n",
      "|C-asOz_olPd|   joydavmurmu.07|My Febret game fo...|  2024-08-12|    0| cristiano|Negative|\n",
      "+-----------+-----------------+--------------------+------------+-----+----------+--------+\n",
      "only showing top 20 rows\n",
      "\n"
     ]
    }
   ],
   "source": [
    "df_negative = comm_with_polarity1.filter(comm_with_polarity1.polarity =='Negative')\n",
    "df_negative.show()"
   ]
  },
  {
   "cell_type": "code",
   "execution_count": 43,
   "id": "6a4458eb",
   "metadata": {},
   "outputs": [
    {
     "name": "stdout",
     "output_type": "stream",
     "text": [
      "+-----------+------------------------------+----------------------------------------------------------------------------------+------------+-----+----------+--------+\n",
      "|shortcode  |username                      |comment_text                                                                      |comment_date|likes|post_owner|polarity|\n",
      "+-----------+------------------------------+----------------------------------------------------------------------------------+------------+-----+----------+--------+\n",
      "|C-asOz_olPd|_ektara_vatss_                |shut up oldie                                                                     |2024-08-13  |2    |cristiano |Neutral |\n",
      "|C-asOz_olPd|muhar.007                     |                                                                                  |2024-08-13  |4    |cristiano |Neutral |\n",
      "|C-asOz_olPd|sendonet_inst                 |I will miss your friendship with Pepe                                             |2024-08-13  |6    |cristiano |Neutral |\n",
      "|C-asOz_olPd|ilios7153                     |Hello                                                                             |2024-08-13  |3    |cristiano |Neutral |\n",
      "|C-asOz_olPd|khadija_a_l                   |:red_heart:                                                                       |2024-08-13  |6    |cristiano |Neutral |\n",
      "|C-asOz_olPd|jozhuaprz                     |Todo está llegando a su fin                                                       |2024-08-13  |4    |cristiano |Neutral |\n",
      "|C-asOz_olPd|shakiipcr7                    |:raising_hands::raising_hands:                                                    |2024-08-12  |3    |cristiano |Neutral |\n",
      "|C-asOz_olPd|moroccan_sports_fans          |:fire::fire::broken_heart:                                                        |2024-08-13  |6    |cristiano |Neutral |\n",
      "|C-asOz_olPd|_saminta_yadav                |                                                                                  |2024-08-13  |5    |cristiano |Neutral |\n",
      "|C-asOz_olPd|c3__808                       |Te entiendo giorgina                                                              |2024-08-13  |5    |cristiano |Neutral |\n",
      "|C-asOz_olPd|ladfm29                       |:fire::fire:                                                                      |2024-08-12  |5    |cristiano |Neutral |\n",
      "|C-asOz_olPd|noroozi__fottbal_ronaldo__3647|                                                                                  |2024-08-13  |2    |cristiano |Neutral |\n",
      "|C-asOz_olPd|rey_espinoza4                 |:broken_heart:                                                                    |2024-08-11  |2    |cristiano |Neutral |\n",
      "|C-asOz_olPd|plumbchip                     |messi sin hablar bocon te silenciosti y atus fans niños                           |2024-08-13  |7    |cristiano |Neutral |\n",
      "|C-asOz_olPd|tahabayramcetinn              |Gt                                                                                |2024-08-13  |2    |cristiano |Neutral |\n",
      "|C-asOz_olPd|angel_leonardo.23             |Cristiano te amo casate conmigo x ti dejo a mi novia :smiling_cat_with_heart-eyes:|2024-08-13  |5    |cristiano |Neutral |\n",
      "|C-asOz_olPd|mohamed_ahmed3585             |ilove you:red_heart::purple_heart::green_heart::blue_heart::yellow_heart:         |2024-08-12  |25   |cristiano |Neutral |\n",
      "|C-asOz_olPd|karanmaravi9596               |:purple_heart: Bhopal                                                             |2024-08-13  |2    |cristiano |Neutral |\n",
      "|C-asOz_olPd|amitaareyn                    |IND bala follow Karo :red_heart:                                                  |2024-08-13  |2    |cristiano |Neutral |\n",
      "|C-asOz_olPd|bilol_1715_cr7                |The:goat::fire::fire:                                                             |2024-08-13  |8    |cristiano |Neutral |\n",
      "+-----------+------------------------------+----------------------------------------------------------------------------------+------------+-----+----------+--------+\n",
      "only showing top 20 rows\n",
      "\n"
     ]
    }
   ],
   "source": [
    "df_neutral = comm_with_polarity1.filter(comm_with_polarity1.polarity == 'Neutral')\n",
    "df_neutral.show(truncate=False)"
   ]
  },
  {
   "cell_type": "code",
   "execution_count": 31,
   "id": "f0d814c4",
   "metadata": {},
   "outputs": [
    {
     "name": "stdout",
     "output_type": "stream",
     "text": [
      "+--------------------+--------+\n",
      "|        comment_text|polarity|\n",
      "+--------------------+--------+\n",
      "|                Nice|Positive|\n",
      "|Please help me he...|Positive|\n",
      "|PEPE THE BEST CB ...|Positive|\n",
      "|       shut up oldie| Neutral|\n",
      "|                    | Neutral|\n",
      "|I will miss your ...| Neutral|\n",
      "|               Hello| Neutral|\n",
      "|         :red_heart:| Neutral|\n",
      "|Todo está llegand...| Neutral|\n",
      "|:raising_hands::r...| Neutral|\n",
      "+--------------------+--------+\n",
      "only showing top 10 rows\n",
      "\n"
     ]
    }
   ],
   "source": [
    "#comm_with_polarity.show(10)\n",
    "df1 = comm_with_polarity1.select(\"comment_text\",\"polarity\")\n",
    "df1.show(10)"
   ]
  },
  {
   "cell_type": "code",
   "execution_count": 45,
   "id": "d39e74ea",
   "metadata": {},
   "outputs": [
    {
     "name": "stdout",
     "output_type": "stream",
     "text": [
      "Pol: Positive, Count: <built-in method count of Row object at 0x7efd7a643ef8>\n",
      "Pol: Neutral, Count: <built-in method count of Row object at 0x7efd7a792048>\n",
      "Pol: Negative, Count: <built-in method count of Row object at 0x7efd7a643e58>\n"
     ]
    },
    {
     "data": {
      "text/plain": [
       "<AxesSubplot:>"
      ]
     },
     "execution_count": 45,
     "metadata": {},
     "output_type": "execute_result"
    },
    {
     "data": {
      "image/png": "[encoded data removed]",
      "text/plain": [
       "<Figure size 432x288 with 1 Axes>"
      ]
     },
     "metadata": {
      "needs_background": "light"
     },
     "output_type": "display_data"
    }
   ],
   "source": [
    "from pyspark.sql.functions import col\n",
    "\n",
    "# Value counts\n",
    "pol_counts = comm_with_polarity1.groupBy(col(\"polarity\")).count().collect()\n",
    "\n",
    "# Print value counts\n",
    "for row in pol_counts:\n",
    "    print(f\"Pol: {row.polarity}, Count: {row.count}\")\n",
    "\n",
    "# Plotting is not directly possible in PySpark, but you can convert to Pandas and plot\n",
    "pdf = comm_with_polarity1.toPandas()\n",
    "pol_counts_pdf = pdf['polarity'].value_counts()\n",
    "pol_counts_pdf.plot.bar()"
   ]
  },
  {
   "cell_type": "code",
   "execution_count": 60,
   "id": "bca7a962",
   "metadata": {},
   "outputs": [
    {
     "data": {
      "text/plain": [
       "0"
      ]
     },
     "execution_count": 60,
     "metadata": {},
     "output_type": "execute_result"
    }
   ],
   "source": [
    "dbt=comm_with_polarity1\n",
    "dbt=dbt.fillna({'likes':0})\n",
    "dbt.filter(dbt.likes.isNull()).count()"
   ]
  },
  {
   "cell_type": "code",
   "execution_count": 65,
   "id": "df2056d3",
   "metadata": {},
   "outputs": [],
   "source": [
    " dbt=dbt.na.drop()"
   ]
  },
  {
   "cell_type": "code",
   "execution_count": 73,
   "id": "47182598",
   "metadata": {},
   "outputs": [],
   "source": [
    "from pyspark.sql.functions import col\n",
    "dbt = dbt.withColumn(\"likes\", col(\"likes\").cast(\"Integer\"))"
   ]
  },
  {
   "cell_type": "code",
   "execution_count": 74,
   "id": "cc8a38be",
   "metadata": {},
   "outputs": [
    {
     "data": {
      "text/plain": [
       "[('shortcode', 'string'),\n",
       " ('username', 'string'),\n",
       " ('comment_text', 'string'),\n",
       " ('comment_date', 'string'),\n",
       " ('likes', 'int'),\n",
       " ('post_owner', 'string'),\n",
       " ('polarity', 'string')]"
      ]
     },
     "execution_count": 74,
     "metadata": {},
     "output_type": "execute_result"
    }
   ],
   "source": [
    "dbt.dtypes"
   ]
  },
  {
   "cell_type": "code",
   "execution_count": 76,
   "id": "6ed82be5",
   "metadata": {},
   "outputs": [
    {
     "name": "stdout",
     "output_type": "stream",
     "text": [
      "+--------------------+-----+--------+\n",
      "|        comment_text|likes|polarity|\n",
      "+--------------------+-----+--------+\n",
      "|Stray kids refere...|15926| Neutral|\n",
      "|Continuaremos jun...| 9145| Neutral|\n",
      "|Continuaremos jun...| 9064| Neutral|\n",
      "|stray kids everyw...| 8058| Neutral|\n",
      "|best video on int...| 6050|Positive|\n",
      "|     NASA IS A STAY?| 5393| Neutral|\n",
      "|skz reference???:...| 5334| Neutral|\n",
      "|i know kahoot mus...| 4763| Neutral|\n",
      "|Stray kids and Ae...| 4167| Neutral|\n",
      "|STRAY KIDS EVERYW...| 3890| Neutral|\n",
      "+--------------------+-----+--------+\n",
      "only showing top 10 rows\n",
      "\n"
     ]
    }
   ],
   "source": [
    "#sort based on likes\n",
    "q1 = dbt.sort(dbt.likes.desc())\n",
    "q1 = q1.select(\"comment_text\",\"likes\",\"polarity\")\n",
    "q1.show(10)"
   ]
  },
  {
   "cell_type": "code",
   "execution_count": 77,
   "id": "54dc2876",
   "metadata": {},
   "outputs": [
    {
     "name": "stdout",
     "output_type": "stream",
     "text": [
      "+-----------+---------------+--------------------+------------+-----+------------+--------+\n",
      "|  shortcode|       username|        comment_text|comment_date|likes|  post_owner|polarity|\n",
      "+-----------+---------------+--------------------+------------+-----+------------+--------+\n",
      "|C92yTNOxLzJ|rainbow.raine11|Excuse me! Um, @r...|  2024-07-25|  232|        nasa|Negative|\n",
      "|C9yfaYqMDaE|umbrellabrasil_|Counting down the...|  2024-07-24|  188|     netflix|Negative|\n",
      "|C9yfaYqMDaE|   genie2.0noel|I'm canceling my ...|  2024-07-25|  159|     netflix|Negative|\n",
      "|C9yfaYqMDaE|pilot_james1995|Just canceled my ...|  2024-07-27|  135|     netflix|Negative|\n",
      "|C9yfaYqMDaE|         jace74|Just cancelled Ne...|  2024-07-25|  131|     netflix|Negative|\n",
      "|C9yfaYqMDaE|  thesydster_03|We the people dem...|  2024-07-31|  113|     netflix|Negative|\n",
      "|C9yfaYqMDaE|   the_jet_rhea|WE THE PEOPLE DEM...|  2024-07-31|   87|     netflix|Negative|\n",
      "|C5e9dc7xaDd|      nobodezys|im so saddd ticke...|  2024-05-03|   82|billieeilish|Negative|\n",
      "|C9yfaYqMDaE| howlpendragon_|WE THE PEOPLE DEM...|  2024-07-31|   81|     netflix|Negative|\n",
      "|C9yfaYqMDaE|       rayone23|Boycott these lib...|  2024-07-27|   81|     netflix|Negative|\n",
      "+-----------+---------------+--------------------+------------+-----+------------+--------+\n",
      "only showing top 10 rows\n",
      "\n"
     ]
    }
   ],
   "source": [
    "#negative comment having highest likes\n",
    "q2 = dbt.filter(dbt.polarity.contains(\"Negative\"))\n",
    "q2 = q2.sort(q2.likes.desc())\n",
    "q2.show(10)"
   ]
  },
  {
   "cell_type": "code",
   "execution_count": 78,
   "id": "ec010147",
   "metadata": {},
   "outputs": [
    {
     "name": "stdout",
     "output_type": "stream",
     "text": [
      "+-----------+-------------------+--------------------+------------+-----+------------+--------+\n",
      "|  shortcode|           username|        comment_text|comment_date|likes|  post_owner|polarity|\n",
      "+-----------+-------------------+--------------------+------------+-----+------------+--------+\n",
      "|Cz5ZnobyCGB|saurabhghadge_vines|best video on int...|  2023-11-22| 6050|narendramodi|Positive|\n",
      "|Cz5ZnobyCGB|        pilot_mommy|we r lucky to hav...|  2023-11-22| 2483|narendramodi|Positive|\n",
      "|C92yTNOxLzJ|    _pixxie_lixxie_|SU SU SU SU SUPER...|  2024-07-25| 1018|        nasa|Positive|\n",
      "|Cz5ZnobyCGB|       mlamanish330|LUCKY TO HAVE MOD...|  2023-11-25|  951|narendramodi|Positive|\n",
      "|Cz5ZnobyCGB| shipvloggeraman786|Proud to be India...|  2023-11-21|  835|narendramodi|Positive|\n",
      "|C80EI7NNDFK|  abdullah_butt_770|Virat sir im your...|  2024-07-22|  732| virat.kohli|Positive|\n",
      "|C92yTNOxLzJ|      versaceeventi|Stray Kids is a w...|  2024-07-25|  661|        nasa|Positive|\n",
      "|C80EI7NNDFK|    krishnapanda165|Most liked post o...|  2024-07-20|  648| virat.kohli|Positive|\n",
      "|C5e9dc7xaDd|     aurora_lupines|Free Palestine :P...|  2024-05-19|  435|billieeilish|Positive|\n",
      "|C5e9dc7xaDd|     aurora_lupines|Free Palestine :P...|  2024-05-19|  435|billieeilish|Positive|\n",
      "+-----------+-------------------+--------------------+------------+-----+------------+--------+\n",
      "only showing top 10 rows\n",
      "\n"
     ]
    }
   ],
   "source": [
    "#positive comment having highest likes\n",
    "q4 = dbt.filter(dbt.polarity.contains(\"Positive\"))\n",
    "q4 = q4.sort(q4.likes.desc())\n",
    "q4.show(10)"
   ]
  },
  {
   "cell_type": "code",
   "execution_count": 69,
   "id": "144d2096",
   "metadata": {},
   "outputs": [
    {
     "name": "stdout",
     "output_type": "stream",
     "text": [
      "+--------------------+-----+\n",
      "|            username|count|\n",
      "+--------------------+-----+\n",
      "|        wash.burn292|  304|\n",
      "|    _soul_hacker_018|  141|\n",
      "|          somquesoma|  132|\n",
      "|    multiiifandomm_0|  119|\n",
      "|    nossocanalvendas|  118|\n",
      "|virat._kohli._18....|   99|\n",
      "|   b_mclean_edwards_|   91|\n",
      "|        pritam_baman|   59|\n",
      "|  felixcorrallodeiro|   40|\n",
      "|    stone_x_coled__5|   36|\n",
      "|      011.oliveiraaz|   32|\n",
      "|         manjulxking|   32|\n",
      "|          _lben_zine|   31|\n",
      "|        taanaz__2909|   30|\n",
      "|       gilly_balloon|   30|\n",
      "|    sumitsandhu11001|   23|\n",
      "|     khakan_sarkar_7|   22|\n",
      "|       melony_1991xo|   22|\n",
      "|         armanssxx_2|   22|\n",
      "|           sonu.1287|   21|\n",
      "+--------------------+-----+\n",
      "only showing top 20 rows\n",
      "\n"
     ]
    }
   ],
   "source": [
    "#which user has post most comments \n",
    "q3 =dbt.groupBy('username').count()\n",
    "q3 = q3.sort(q3['count'].desc())\n",
    "q3.show()"
   ]
  },
  {
   "cell_type": "code",
   "execution_count": 84,
   "id": "7916d70d",
   "metadata": {},
   "outputs": [
    {
     "name": "stdout",
     "output_type": "stream",
     "text": [
      "+-----------+-----+\n",
      "|  shortcode|count|\n",
      "+-----------+-----+\n",
      "|C-asOz_olPd| 5707|\n",
      "|C5e9dc7xaDd| 5046|\n",
      "|C80EI7NNDFK| 2935|\n",
      "|Cz5ZnobyCGB| 2914|\n",
      "|C9dYNHnNp4F| 2908|\n",
      "+-----------+-----+\n",
      "only showing top 5 rows\n",
      "\n"
     ]
    }
   ],
   "source": [
    "#which post has most no of comments\n",
    "q5=dbt.select('shortcode','post_owner').groupBy('shortcode').count()\n",
    "q5.orderBy('count',ascending=False).show(5)"
   ]
  },
  {
   "cell_type": "code",
   "execution_count": 87,
   "id": "b8eb8a5a",
   "metadata": {},
   "outputs": [
    {
     "name": "stdout",
     "output_type": "stream",
     "text": [
      "+-----------+-----+\n",
      "|  shortcode|count|\n",
      "+-----------+-----+\n",
      "|C5e9dc7xaDd|  703|\n",
      "|C-asOz_olPd|  481|\n",
      "|Cz5ZnobyCGB|  369|\n",
      "|C8zxadOSFT_|  239|\n",
      "|C9CDpU4S6sx|  212|\n",
      "|C9dYNHnNp4F|  156|\n",
      "|C9yfaYqMDaE|  136|\n",
      "|C80EI7NNDFK|  115|\n",
      "|C92yTNOxLzJ|   30|\n",
      "+-----------+-----+\n",
      "\n"
     ]
    }
   ],
   "source": [
    "q6=dbt.select('shortcode','polarity').filter(dbt.polarity.contains('Positive')).groupBy('shortcode').count()\n",
    "q6.orderBy('count',ascending=False).show()\n"
   ]
  },
  {
   "cell_type": "code",
   "execution_count": 88,
   "id": "7ddcaaca",
   "metadata": {},
   "outputs": [
    {
     "name": "stdout",
     "output_type": "stream",
     "text": [
      "+-----------+-----+\n",
      "|  shortcode|count|\n",
      "+-----------+-----+\n",
      "|C9yfaYqMDaE|  233|\n",
      "|C5e9dc7xaDd|  147|\n",
      "|Cz5ZnobyCGB|   38|\n",
      "|C-asOz_olPd|   38|\n",
      "|C8zxadOSFT_|   23|\n",
      "|C9dYNHnNp4F|   16|\n",
      "|C9CDpU4S6sx|   15|\n",
      "|C80EI7NNDFK|    7|\n",
      "|C92yTNOxLzJ|    2|\n",
      "+-----------+-----+\n",
      "\n"
     ]
    }
   ],
   "source": [
    "q7=dbt.select('shortcode','polarity').filter(dbt.polarity.contains('Negative')).groupBy('shortcode').count()\n",
    "q7.orderBy('count',ascending=False).show()\n"
   ]
  },
  {
   "cell_type": "code",
   "execution_count": null,
   "id": "e90f8268",
   "metadata": {},
   "outputs": [],
   "source": [
    "q8=dbt.select('shortcode','polarity').filter(dbt.polarity.contains('Neutral')).groupBy('shortcode').count()\n",
    "q8.orderBy('count',ascending=False).show()\n"
   ]
  },
  {
   "cell_type": "code",
   "execution_count": null,
   "id": "38d59d6c",
   "metadata": {},
   "outputs": [],
   "source": [
    "# Save the DataFrame as a CSV file\n",
    "comm_with_polarity.write \\\n",
    "    .format(\"csv\") \\\n",
    "    .option(\"header\", \"true\") \\\n",
    "    .save(\"output\")\n"
   ]
  },
  {
   "cell_type": "code",
   "execution_count": null,
   "id": "f1a446c1",
   "metadata": {},
   "outputs": [],
   "source": []
  }
 ],
 "metadata": {
  "kernelspec": {
   "display_name": "Python 3",
   "language": "python",
   "name": "python3"
  },
  "language_info": {
   "codemirror_mode": {
    "name": "ipython",
    "version": 3
   },
   "file_extension": ".py",
   "mimetype": "text/x-python",
   "name": "python",
   "nbconvert_exporter": "python",
   "pygments_lexer": "ipython3",
   "version": "3.6.9"
  }
 },
 "nbformat": 4,
 "nbformat_minor": 5
}
